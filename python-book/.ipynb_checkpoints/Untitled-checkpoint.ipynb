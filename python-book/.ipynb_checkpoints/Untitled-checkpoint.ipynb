{
 "cells": [
  {
   "cell_type": "code",
   "execution_count": null,
   "metadata": {
    "collapsed": true
   },
   "outputs": [],
   "source": [
    "import csv\n",
    "import xlrd\n",
    "\n",
    "workbook = xlrd.open_workbook('CatStrategy_final_v30_toShare_cl.xlsm')\n",
    "for sheet in workbook.sheets():\n",
    "    if sheet.name == \"Sheet_name_from_xlsm_file\":\n",
    "        with open('{}.csv'.format(sheet.name), 'wb') as f:\n",
    "            writer = csv.writer(f)\n",
    "            for row in range(sheet.nrows):\n",
    "                out = []\n",
    "                for cell in sheet.row_values(row):\n",
    "                    try:\n",
    "                        out.append(cell.encode('utf8'))\n",
    "                    except:\n",
    "                        out.append(cell)\n",
    "                writer.writerow(out)"
   ]
  },
  {
   "cell_type": "code",
   "execution_count": null,
   "metadata": {
    "collapsed": true
   },
   "outputs": [],
   "source": []
  },
  {
   "cell_type": "code",
   "execution_count": null,
   "metadata": {
    "collapsed": true
   },
   "outputs": [],
   "source": []
  }
 ],
 "metadata": {
  "kernelspec": {
   "display_name": "Python 3",
   "language": "python",
   "name": "python3"
  },
  "language_info": {
   "codemirror_mode": {
    "name": "ipython",
    "version": 3
   },
   "file_extension": ".py",
   "mimetype": "text/x-python",
   "name": "python",
   "nbconvert_exporter": "python",
   "pygments_lexer": "ipython3",
   "version": "3.6.3"
  }
 },
 "nbformat": 4,
 "nbformat_minor": 2
}
