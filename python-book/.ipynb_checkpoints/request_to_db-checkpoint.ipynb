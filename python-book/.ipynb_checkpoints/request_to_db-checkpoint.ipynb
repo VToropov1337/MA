{
 "cells": [
  {
   "cell_type": "code",
   "execution_count": 19,
   "metadata": {
    "collapsed": true
   },
   "outputs": [],
   "source": [
    "# how to get pandas data from postgree sql using python \n",
    "import psycopg2 as pg\n",
    "import pandas.io.sql as psql\n",
    "import pandas as pd\n",
    "\n",
    "request =\"SELECT DISTINCT(r2.article_id), CONCAT_WS('','https://ma-metro.millionagents.com/data2/answer/image/', answer_files.id, '/', file) as url \\\n",
    "FROM ma_metro.reports r \\\n",
    "INNER JOIN ma_metro.reports r2 \\\n",
    "    ON r.id = r2.origin_report_id \\\n",
    "INNER JOIN ma_metro.tasks t \\\n",
    "    ON r2.task_id = t.id \\\n",
    "JOIN ma_metro.answer_files \\\n",
    "    ON answer_files.id = r2.metro_price_photo_id \\\n",
    "INNER JOIN ma_metro.geo_objects \\\n",
    "    ON t.geo_object_id = geo_objects.id \\\n",
    "WHERE t.project_id = 2 \\\n",
    "AND r2.state = 'accepted' \\\n",
    "AND r2.metro_available = True \\\n",
    "AND r2.metro_promo = True \\\n",
    "AND r2.id IN ({}) \\\n",
    "LIMIT 10\".format(reports_ids)\n",
    "\n",
    "connection = pg.connect(host='127.0.0.1',port='8089', database='ma_metro_forapp_mobi',user='psqlreader',password='aImf3fivls34')\n",
    "df = pd.read_sql_query(request, connection)\n",
    "# df = pd.read_sql_query('select * from ma_metro.users LIMIT 10',con=connection)\n",
    "# print(df)"
   ]
  },
  {
   "cell_type": "code",
   "execution_count": 20,
   "metadata": {},
   "outputs": [
    {
     "data": {
      "text/html": [
       "<div>\n",
       "<style scoped>\n",
       "    .dataframe tbody tr th:only-of-type {\n",
       "        vertical-align: middle;\n",
       "    }\n",
       "\n",
       "    .dataframe tbody tr th {\n",
       "        vertical-align: top;\n",
       "    }\n",
       "\n",
       "    .dataframe thead th {\n",
       "        text-align: right;\n",
       "    }\n",
       "</style>\n",
       "<table border=\"1\" class=\"dataframe\">\n",
       "  <thead>\n",
       "    <tr style=\"text-align: right;\">\n",
       "      <th></th>\n",
       "      <th>article_id</th>\n",
       "      <th>url</th>\n",
       "    </tr>\n",
       "  </thead>\n",
       "  <tbody>\n",
       "    <tr>\n",
       "      <th>0</th>\n",
       "      <td>249</td>\n",
       "      <td>https://ma-metro.millionagents.com/data2/answe...</td>\n",
       "    </tr>\n",
       "    <tr>\n",
       "      <th>1</th>\n",
       "      <td>808</td>\n",
       "      <td>https://ma-metro.millionagents.com/data2/answe...</td>\n",
       "    </tr>\n",
       "    <tr>\n",
       "      <th>2</th>\n",
       "      <td>957</td>\n",
       "      <td>https://ma-metro.millionagents.com/data2/answe...</td>\n",
       "    </tr>\n",
       "    <tr>\n",
       "      <th>3</th>\n",
       "      <td>957</td>\n",
       "      <td>https://ma-metro.millionagents.com/data2/answe...</td>\n",
       "    </tr>\n",
       "    <tr>\n",
       "      <th>4</th>\n",
       "      <td>1654</td>\n",
       "      <td>https://ma-metro.millionagents.com/data2/answe...</td>\n",
       "    </tr>\n",
       "    <tr>\n",
       "      <th>5</th>\n",
       "      <td>1809</td>\n",
       "      <td>https://ma-metro.millionagents.com/data2/answe...</td>\n",
       "    </tr>\n",
       "    <tr>\n",
       "      <th>6</th>\n",
       "      <td>1809</td>\n",
       "      <td>https://ma-metro.millionagents.com/data2/answe...</td>\n",
       "    </tr>\n",
       "    <tr>\n",
       "      <th>7</th>\n",
       "      <td>1841</td>\n",
       "      <td>https://ma-metro.millionagents.com/data2/answe...</td>\n",
       "    </tr>\n",
       "    <tr>\n",
       "      <th>8</th>\n",
       "      <td>1841</td>\n",
       "      <td>https://ma-metro.millionagents.com/data2/answe...</td>\n",
       "    </tr>\n",
       "    <tr>\n",
       "      <th>9</th>\n",
       "      <td>1848</td>\n",
       "      <td>https://ma-metro.millionagents.com/data2/answe...</td>\n",
       "    </tr>\n",
       "  </tbody>\n",
       "</table>\n",
       "</div>"
      ],
      "text/plain": [
       "   article_id                                                url\n",
       "0         249  https://ma-metro.millionagents.com/data2/answe...\n",
       "1         808  https://ma-metro.millionagents.com/data2/answe...\n",
       "2         957  https://ma-metro.millionagents.com/data2/answe...\n",
       "3         957  https://ma-metro.millionagents.com/data2/answe...\n",
       "4        1654  https://ma-metro.millionagents.com/data2/answe...\n",
       "5        1809  https://ma-metro.millionagents.com/data2/answe...\n",
       "6        1809  https://ma-metro.millionagents.com/data2/answe...\n",
       "7        1841  https://ma-metro.millionagents.com/data2/answe...\n",
       "8        1841  https://ma-metro.millionagents.com/data2/answe...\n",
       "9        1848  https://ma-metro.millionagents.com/data2/answe..."
      ]
     },
     "execution_count": 20,
     "metadata": {},
     "output_type": "execute_result"
    }
   ],
   "source": [
    "df"
   ]
  },
  {
   "cell_type": "code",
   "execution_count": null,
   "metadata": {
    "collapsed": true
   },
   "outputs": [],
   "source": []
  }
 ],
 "metadata": {
  "kernelspec": {
   "display_name": "Python 3",
   "language": "python",
   "name": "python3"
  },
  "language_info": {
   "codemirror_mode": {
    "name": "ipython",
    "version": 3
   },
   "file_extension": ".py",
   "mimetype": "text/x-python",
   "name": "python",
   "nbconvert_exporter": "python",
   "pygments_lexer": "ipython3",
   "version": "3.6.3"
  }
 },
 "nbformat": 4,
 "nbformat_minor": 2
}
