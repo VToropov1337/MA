{
 "cells": [
  {
   "cell_type": "code",
   "execution_count": 1,
   "metadata": {
    "collapsed": true
   },
   "outputs": [],
   "source": [
    "import psycopg2 as pg\n",
    "import pandas as pd\n",
    "import json"
   ]
  },
  {
   "cell_type": "code",
   "execution_count": 2,
   "metadata": {
    "collapsed": true
   },
   "outputs": [],
   "source": [
    "df = pd.read_csv('metro.csv',sep=',')"
   ]
  },
  {
   "cell_type": "code",
   "execution_count": 3,
   "metadata": {},
   "outputs": [],
   "source": [
    "dfm = df[(df['Промо отметка (1 - Да, 0 - нет, 2 - скрытая)'] == 0) & (df['Competiror desc'] == 'Magnit')\\\n",
    "        & (df['City desc'].isin(['Voronezh','Saratov','Izhevsk']))]"
   ]
  },
  {
   "cell_type": "code",
   "execution_count": 4,
   "metadata": {},
   "outputs": [
    {
     "data": {
      "text/plain": [
       "(1738, 22)"
      ]
     },
     "execution_count": 4,
     "metadata": {},
     "output_type": "execute_result"
    }
   ],
   "source": [
    "dfm.shape"
   ]
  },
  {
   "cell_type": "code",
   "execution_count": 5,
   "metadata": {
    "collapsed": true
   },
   "outputs": [],
   "source": [
    "# & (df['City desc'] == 'Izhevsk') Voronezh Saratov"
   ]
  },
  {
   "cell_type": "code",
   "execution_count": 6,
   "metadata": {},
   "outputs": [
    {
     "data": {
      "text/plain": [
       "array(['Nizhny Novgorod', 'Omsk', 'Kaluga', \"Yaroslavl'\",\n",
       "       'St. Petersburg', 'Pyatigorsk', 'Penza', 'Orenburg', 'Moscow',\n",
       "       'Kemerovo', 'Ivanovo', 'Cheboksary', 'Astrakhan', 'Novosibirsk',\n",
       "       'Stavropol', 'Samara', 'Saratov', 'Krasnodar', 'Orel',\n",
       "       'Ekaterinburg', 'Kazan', 'Kaliningrad', 'Rostov', 'Crimea',\n",
       "       'Vladimir', 'Novokuznetsk', 'Izhevsk', 'Bryansk', 'Voronezh',\n",
       "       'Tula', 'Kursk', 'Irkutsk', 'Ufa', 'Tver', 'Volgograd', 'Lipetsk',\n",
       "       'Tyumen', \"Ryazan'\", 'Ulyanovsk'], dtype=object)"
      ]
     },
     "execution_count": 6,
     "metadata": {},
     "output_type": "execute_result"
    }
   ],
   "source": [
    "df['City desc'].unique()"
   ]
  },
  {
   "cell_type": "code",
   "execution_count": 7,
   "metadata": {},
   "outputs": [
    {
     "data": {
      "text/plain": [
       "array(['СРЕДСТВА ПО УХОДУ ЗА ПОЛОСТЬЮ РТА', 'ТВОРОЖНЫЕ ИЗДЕЛИЯ',\n",
       "       'СНЕКОВАЯ МОЛОЧНАЯ ПРОДУКЦИЯ', 'МУЧНЫЕ ИЗДЕЛИЯ',\n",
       "       'СРЕДСТВА ДЛЯ УХОДА ЗА ВОЛОСАМИ', 'СРЕДСТВА ДЛЯ УХОДА ЗА ТЕЛОМ',\n",
       "       'СРЕДСТВА ГИГИЕНЫ', 'МОЛОКО И СЛИВКИ', 'СМЕТАНА',\n",
       "       'МОЛОЧНАЯ КОНСЕРВАЦИЯ', 'КРЕПКИЕ АЛКОГОЛЬНЫЕ НАПИТКИ',\n",
       "       'ПОДАРОЧНЫЕ НАБОРЫ', 'СРЕДСТВА ДЛЯ ВАНН/ДУША',\n",
       "       'СРЕДСТВА ДЛЯ БРИТЬЯ', 'МОРОЖЕНОЕ', 'КИСЛОМОЛОЧНЫЕ ПРОДУКТЫ',\n",
       "       'ЙОГУРТЫ, ДЕСЕРТЫ И СОВРЕМЕННЫЕ МОЛОЧНЫЕ ПРОДУКТЫ',\n",
       "       'ТОВАРЫ МЕДИЦИНСКОГО НАЗНАЧЕНИЯ',\n",
       "       'ОВОЩНЫЕ И ФРУКТОВЫЕ ПОЛУФАБРИКАТЫ ЗАМОРОЖЕННЫЕ',\n",
       "       'СРЕДСТВА ДЛЯ НОВОРОЖДЕННЫХ И ДЕТЕЙ',\n",
       "       'ДЕТСКОЕ МОЛОЧНОЕ ПИТАНИЕ ДО 3-Х ЛЕТ', 'ПАРФЮМЕРИЯ',\n",
       "       'СЛАБОАЛКОГОЛЬНЫЕ НАПИТКИ'], dtype=object)"
      ]
     },
     "execution_count": 7,
     "metadata": {},
     "output_type": "execute_result"
    }
   ],
   "source": [
    "dfm['Level 4'].unique()"
   ]
  },
  {
   "cell_type": "code",
   "execution_count": 8,
   "metadata": {
    "collapsed": true
   },
   "outputs": [],
   "source": [
    "df_el = dfm[dfm['Level 4'].isin(['ТВОРОЖНЫЕ ИЗДЕЛИЯ','СНЕКОВАЯ МОЛОЧНАЯ ПРОДУКЦИЯ',\\\n",
    "                                 'ЙОГУРТЫ, ДЕСЕРТЫ И СОВРЕМЕННЫЕ МОЛОЧНЫЕ ПРОДУКТЫ',\\\n",
    "                                'КИСЛОМОЛОЧНЫЕ ПРОДУКТЫ','МОЛОКО И СЛИВКИ','КРЕПКИЕ АЛКОГОЛЬНЫЕ НАПИТКИ'])]"
   ]
  },
  {
   "cell_type": "code",
   "execution_count": 9,
   "metadata": {},
   "outputs": [
    {
     "data": {
      "text/plain": [
       "(654, 22)"
      ]
     },
     "execution_count": 9,
     "metadata": {},
     "output_type": "execute_result"
    }
   ],
   "source": [
    "df_el.shape\n"
   ]
  },
  {
   "cell_type": "code",
   "execution_count": 10,
   "metadata": {
    "collapsed": true
   },
   "outputs": [],
   "source": [
    "arr = df_el['Фото'].tolist()\n",
    "\n",
    "qq = list()\n",
    "for i in arr:\n",
    "    qq.append(i.split('/'))"
   ]
  },
  {
   "cell_type": "code",
   "execution_count": 11,
   "metadata": {},
   "outputs": [
    {
     "data": {
      "text/plain": [
       "654"
      ]
     },
     "execution_count": 11,
     "metadata": {},
     "output_type": "execute_result"
    }
   ],
   "source": [
    "len(qq)"
   ]
  },
  {
   "cell_type": "code",
   "execution_count": 12,
   "metadata": {},
   "outputs": [],
   "source": [
    "zz = ()\n",
    "\n",
    "for i in qq:\n",
    "    if int(i[4]) not in zz:\n",
    "        zz += (int(i[4]),)\n"
   ]
  },
  {
   "cell_type": "code",
   "execution_count": 13,
   "metadata": {},
   "outputs": [
    {
     "name": "stdout",
     "output_type": "stream",
     "text": [
      "654\n"
     ]
    },
    {
     "data": {
      "text/plain": [
       "19726798"
      ]
     },
     "execution_count": 13,
     "metadata": {},
     "output_type": "execute_result"
    }
   ],
   "source": [
    "print(len(zz))\n",
    "zz[0]"
   ]
  },
  {
   "cell_type": "code",
   "execution_count": 14,
   "metadata": {},
   "outputs": [],
   "source": [
    "request =\"SELECT geo_objects.id,CONCAT_WS('','https://ma-metro.millionagents.com/data2/answer/image/', answer_files.id, '/', file) as url\\\n",
    " FROM ma_metro.reports r \\\n",
    "INNER JOIN ma_metro.reports r2 \\\n",
    "    ON r.id = r2.origin_report_id \\\n",
    "INNER JOIN ma_metro.tasks t \\\n",
    "ON r2.task_id = t.id \\\n",
    "JOIN ma_metro.answer_files \\\n",
    "    ON answer_files.id = r2.metro_price_photo_id \\\n",
    "INNER JOIN ma_metro.geo_objects \\\n",
    "    ON t.geo_object_id = geo_objects.id \\\n",
    "WHERE t.project_id = 2 \\\n",
    "AND r2.id IN {} \\\n",
    "LIMIT 650;\".format(zz)\n",
    "\n",
    "connection = pg.connect(host='127.0.0.1',port='8089', database='ma_metro_forapp_mobi',user='psqlreader',password='aImf3fivls34')\n",
    "df_final = pd.read_sql_query(request, connection)\n"
   ]
  },
  {
   "cell_type": "code",
   "execution_count": 15,
   "metadata": {},
   "outputs": [
    {
     "data": {
      "text/plain": [
       "array([275, 302, 256])"
      ]
     },
     "execution_count": 15,
     "metadata": {},
     "output_type": "execute_result"
    }
   ],
   "source": [
    "df_final['id'].unique()"
   ]
  },
  {
   "cell_type": "code",
   "execution_count": 16,
   "metadata": {
    "collapsed": true
   },
   "outputs": [],
   "source": [
    "# with open('magnit_electronic.html','w') as f:\n",
    "#     for line in df_final['url']:\n",
    "#         line = line.replace('data2','data3')\n",
    "#         f.write(\"<img style=\\\"width:300px\\\" src=\\\"{}\\\"/>\\n\".format(line))"
   ]
  },
  {
   "cell_type": "code",
   "execution_count": 17,
   "metadata": {},
   "outputs": [
    {
     "data": {
      "text/plain": [
       "(650, 2)"
      ]
     },
     "execution_count": 17,
     "metadata": {},
     "output_type": "execute_result"
    }
   ],
   "source": [
    "df_final.shape"
   ]
  },
  {
   "cell_type": "code",
   "execution_count": 18,
   "metadata": {},
   "outputs": [
    {
     "name": "stdout",
     "output_type": "stream",
     "text": [
      "650\n"
     ]
    }
   ],
   "source": [
    "arr2=list()\n",
    "for i in range(len(df_final)):\n",
    "    hh2 = dict()\n",
    "    line = str(df_final.loc[i]['url'])\n",
    "#     line = line.replace('data2','data3')\n",
    "    hh2['store_title'] = 'Magnit'\n",
    "    hh2['source'] = line.replace('data2','data3')\n",
    "    arr2.append(hh2)\n",
    "\n",
    "\n",
    "\n",
    "print(len(arr2))\n",
    "\n",
    "with open('Magnit_reg.json', 'w') as f:\n",
    "    json.dump(arr2, f)"
   ]
  },
  {
   "cell_type": "code",
   "execution_count": null,
   "metadata": {
    "collapsed": true
   },
   "outputs": [],
   "source": []
  }
 ],
 "metadata": {
  "kernelspec": {
   "display_name": "Python 3",
   "language": "python",
   "name": "python3"
  },
  "language_info": {
   "codemirror_mode": {
    "name": "ipython",
    "version": 3
   },
   "file_extension": ".py",
   "mimetype": "text/x-python",
   "name": "python",
   "nbconvert_exporter": "python",
   "pygments_lexer": "ipython3",
   "version": "3.6.3"
  }
 },
 "nbformat": 4,
 "nbformat_minor": 2
}
