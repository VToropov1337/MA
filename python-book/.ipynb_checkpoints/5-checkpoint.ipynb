{
 "cells": [
  {
   "cell_type": "code",
   "execution_count": 1,
   "metadata": {
    "collapsed": true
   },
   "outputs": [],
   "source": [
    "import pandas as pd"
   ]
  },
  {
   "cell_type": "code",
   "execution_count": 2,
   "metadata": {
    "collapsed": true
   },
   "outputs": [],
   "source": [
    "df = pd.read_csv('pydata-book/datasets/bitly_usagov/all_competitors_with_ids.csv', sep = ',')"
   ]
  },
  {
   "cell_type": "code",
   "execution_count": 3,
   "metadata": {
    "collapsed": true
   },
   "outputs": [],
   "source": [
    "dfrom = pd.read_csv('pydata-book/datasets/bitly_usagov/1wave.csv', sep=',')"
   ]
  },
  {
   "cell_type": "code",
   "execution_count": 4,
   "metadata": {
    "collapsed": true
   },
   "outputs": [],
   "source": [
    "df_final = df"
   ]
  },
  {
   "cell_type": "code",
   "execution_count": 5,
   "metadata": {
    "collapsed": true
   },
   "outputs": [],
   "source": [
    "df['ID_ZONE'] = ''"
   ]
  },
  {
   "cell_type": "code",
   "execution_count": 6,
   "metadata": {},
   "outputs": [],
   "source": [
    "df2 = dfrom[:37]"
   ]
  },
  {
   "cell_type": "code",
   "execution_count": 7,
   "metadata": {},
   "outputs": [
    {
     "data": {
      "text/html": [
       "<div>\n",
       "<style scoped>\n",
       "    .dataframe tbody tr th:only-of-type {\n",
       "        vertical-align: middle;\n",
       "    }\n",
       "\n",
       "    .dataframe tbody tr th {\n",
       "        vertical-align: top;\n",
       "    }\n",
       "\n",
       "    .dataframe thead th {\n",
       "        text-align: right;\n",
       "    }\n",
       "</style>\n",
       "<table border=\"1\" class=\"dataframe\">\n",
       "  <thead>\n",
       "    <tr style=\"text-align: right;\">\n",
       "      <th></th>\n",
       "      <th>СЕГМЕНТ</th>\n",
       "      <th>НАЗВАНИЕ СЕГМЕНТА</th>\n",
       "      <th>КАТЕГОРИЯ</th>\n",
       "      <th>НАЗВАНИЕ КАТЕГОРИИ</th>\n",
       "      <th>СЕМЬЯ</th>\n",
       "      <th>НАЗВАНИЕ СЕМЬИ</th>\n",
       "      <th>Unnamed: 6</th>\n",
       "      <th>FORMAT</th>\n",
       "      <th>CITY</th>\n",
       "      <th>COMPETITOR</th>\n",
       "      <th>ADDRESS</th>\n",
       "      <th>COMP FORMAT</th>\n",
       "      <th>ID_COMP</th>\n",
       "      <th>ID_ZONE</th>\n",
       "      <th>ФАЙЛ в отчете</th>\n",
       "    </tr>\n",
       "  </thead>\n",
       "  <tbody>\n",
       "    <tr>\n",
       "      <th>0</th>\n",
       "      <td>106</td>\n",
       "      <td>МЯСО П/П</td>\n",
       "      <td>137</td>\n",
       "      <td>ГОВЯДИНА П/П  (в т.ч. ВЕСОВОЙ товар) КРОМЕ СТМ</td>\n",
       "      <td>120</td>\n",
       "      <td>ГОВЯДИНА МРАМОРНАЯ</td>\n",
       "      <td>NaN</td>\n",
       "      <td>CITY</td>\n",
       "      <td>MAGNITOGORSK</td>\n",
       "      <td>5KA</td>\n",
       "      <td>Магнитогорск, ул. Доменщиков, д. 3</td>\n",
       "      <td>SUPER</td>\n",
       "      <td>605118</td>\n",
       "      <td>NaN</td>\n",
       "      <td>МА_файл 1</td>\n",
       "    </tr>\n",
       "  </tbody>\n",
       "</table>\n",
       "</div>"
      ],
      "text/plain": [
       "  СЕГМЕНТ НАЗВАНИЕ СЕГМЕНТА КАТЕГОРИЯ  \\\n",
       "0     106          МЯСО П/П       137   \n",
       "\n",
       "                               НАЗВАНИЕ КАТЕГОРИИ СЕМЬЯ      НАЗВАНИЕ СЕМЬИ  \\\n",
       "0  ГОВЯДИНА П/П  (в т.ч. ВЕСОВОЙ товар) КРОМЕ СТМ   120  ГОВЯДИНА МРАМОРНАЯ   \n",
       "\n",
       "  Unnamed: 6 FORMAT          CITY COMPETITOR  \\\n",
       "0        NaN   CITY  MAGNITOGORSK        5KA   \n",
       "\n",
       "                              ADDRESS COMP FORMAT ID_COMP ID_ZONE  \\\n",
       "0  Магнитогорск, ул. Доменщиков, д. 3       SUPER  605118     NaN   \n",
       "\n",
       "  ФАЙЛ в отчете  \n",
       "0     МА_файл 1  "
      ]
     },
     "execution_count": 7,
     "metadata": {},
     "output_type": "execute_result"
    }
   ],
   "source": [
    "df2.head(1)\n"
   ]
  },
  {
   "cell_type": "code",
   "execution_count": 11,
   "metadata": {
    "collapsed": true
   },
   "outputs": [],
   "source": [
    "hh = df2[['ID_COMP','ID_ZONE']]"
   ]
  },
  {
   "cell_type": "code",
   "execution_count": 27,
   "metadata": {},
   "outputs": [
    {
     "name": "stdout",
     "output_type": "stream",
     "text": [
      "605118 605118\n",
      "603047 603047\n",
      "201003 201003\n",
      "403031 403031\n",
      "404084 404084\n",
      "407009 407009\n",
      "205008 205008\n",
      "202023 202023\n",
      "503029 503029\n",
      "513001 513001\n",
      "503038 503038\n",
      "504014 504014\n",
      "203074 203074\n",
      "207007 207007\n",
      "218001 218001\n",
      "204018 204018\n",
      "205146 205146\n",
      "211029 211029\n",
      "204078 204078\n",
      "246001 246001\n",
      "205091 205091\n",
      "204055 204055\n",
      "205084 205084\n",
      "226006 226006\n",
      "205147 205147\n",
      "203084 203084\n",
      "204121 204121\n",
      "205207 205207\n",
      "204145 204145\n",
      "205109 205109\n",
      "204146 204146\n",
      "218002 218002\n",
      "204144 204144\n",
      "218003 218003\n",
      "204069 204069\n",
      "205127 205127\n",
      "204091 204091\n"
     ]
    }
   ],
   "source": [
    "for k,v in enumerate(hh.values):\n",
    "    for i in range(len(df)):\n",
    "        if str(v[0]) == str(df.loc[i]['ID_COMP']):\n",
    "            print(v[0],str(df.loc[i]['ID_COMP']))\n",
    "            df.loc[i,'ID_ZONE'] = v[1]\n",
    "#             print(v[1])\n",
    "#             df.loc[i]['ID_ZONE'] = str(v[1])\n",
    "        "
   ]
  },
  {
   "cell_type": "code",
   "execution_count": 36,
   "metadata": {},
   "outputs": [],
   "source": [
    "df = df.fillna(0)"
   ]
  },
  {
   "cell_type": "code",
   "execution_count": 37,
   "metadata": {},
   "outputs": [
    {
     "data": {
      "text/plain": [
       "0         0\n",
       "1          \n",
       "2     52039\n",
       "3          \n",
       "4     52010\n",
       "5     52010\n",
       "6     52039\n",
       "7     52039\n",
       "8         0\n",
       "9         0\n",
       "10        0\n",
       "11        0\n",
       "12        0\n",
       "13    52039\n",
       "14    52039\n",
       "15    52039\n",
       "16        0\n",
       "17        0\n",
       "18        0\n",
       "19        0\n",
       "20        0\n",
       "21        0\n",
       "22        0\n",
       "23    52039\n",
       "24    52010\n",
       "25    52010\n",
       "26    52039\n",
       "27    52039\n",
       "28    52039\n",
       "29    52039\n",
       "30    52010\n",
       "31    52010\n",
       "32    52010\n",
       "33    52010\n",
       "34    52010\n",
       "35    52010\n",
       "36    52010\n",
       "37    52010\n",
       "38    52039\n",
       "Name: ID_ZONE, dtype: object"
      ]
     },
     "execution_count": 37,
     "metadata": {},
     "output_type": "execute_result"
    }
   ],
   "source": [
    "df"
   ]
  },
  {
   "cell_type": "code",
   "execution_count": null,
   "metadata": {
    "collapsed": true
   },
   "outputs": [],
   "source": []
  }
 ],
 "metadata": {
  "kernelspec": {
   "display_name": "Python 3",
   "language": "python",
   "name": "python3"
  },
  "language_info": {
   "codemirror_mode": {
    "name": "ipython",
    "version": 3
   },
   "file_extension": ".py",
   "mimetype": "text/x-python",
   "name": "python",
   "nbconvert_exporter": "python",
   "pygments_lexer": "ipython3",
   "version": "3.6.3"
  }
 },
 "nbformat": 4,
 "nbformat_minor": 2
}
