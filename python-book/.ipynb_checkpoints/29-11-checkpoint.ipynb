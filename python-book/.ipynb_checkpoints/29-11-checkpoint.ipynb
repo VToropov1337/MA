{
 "cells": [
  {
   "cell_type": "code",
   "execution_count": 21,
   "metadata": {
    "collapsed": true
   },
   "outputs": [],
   "source": [
    "import pandas as pd\n",
    "import psycopg2 as pg\n",
    "import json"
   ]
  },
  {
   "cell_type": "code",
   "execution_count": 22,
   "metadata": {
    "collapsed": true
   },
   "outputs": [],
   "source": [
    "df = pd.read_csv('metro.csv',sep=',')"
   ]
  },
  {
   "cell_type": "code",
   "execution_count": 23,
   "metadata": {},
   "outputs": [
    {
     "data": {
      "text/plain": [
       "array(['Pyaterochka', 'Triumph', 'Auchan', 'Pyaterochka Ozernaya',\n",
       "       'Pyaterochka Sharik', 'Yarche', 'Perekrestok',\n",
       "       'Perekrestok Altufevo', 'Magnit', '7YA', 'Spar', 'Karusel', 'Okey',\n",
       "       'Lenta', 'Pud', 'Assorti', 'Auchan Gorod Entuziastov',\n",
       "       'Auchan Marfino', 'Liniya', 'Globus', 'Victoria Cash&Carry',\n",
       "       'Lenta Dmitrovka', 'Auchan Gagarinskiy', 'OptRyady', 'Gigant',\n",
       "       'Lenta Mozaika', 'Lenta Family Room'], dtype=object)"
      ]
     },
     "execution_count": 23,
     "metadata": {},
     "output_type": "execute_result"
    }
   ],
   "source": [
    "df['Competiror desc'].unique()"
   ]
  },
  {
   "cell_type": "code",
   "execution_count": 24,
   "metadata": {
    "collapsed": true
   },
   "outputs": [],
   "source": [
    "# df_new = df[df['Competiror desc'].isin(['Auchan','Auchan Gorod Entuziastov','Auchan Marfino','Auchan Gagarinskiy'])]\n",
    "\n",
    "df_new = df[df['Competiror desc'] == 'OptRyady']"
   ]
  },
  {
   "cell_type": "code",
   "execution_count": 28,
   "metadata": {
    "collapsed": true
   },
   "outputs": [],
   "source": [
    "df_a_promo = df_new[df_new['Промо отметка (1 - Да, 0 - нет, 2 - скрытая)'] == 0]"
   ]
  },
  {
   "cell_type": "code",
   "execution_count": 29,
   "metadata": {
    "collapsed": true
   },
   "outputs": [],
   "source": [
    "arr = df_a_promo['Фото'].tolist()\n",
    "\n",
    "qq = list()\n",
    "for i in arr:\n",
    "    qq.append(i.split('/'))"
   ]
  },
  {
   "cell_type": "code",
   "execution_count": 30,
   "metadata": {},
   "outputs": [
    {
     "data": {
      "text/plain": [
       "12"
      ]
     },
     "execution_count": 30,
     "metadata": {},
     "output_type": "execute_result"
    }
   ],
   "source": [
    "len(qq)"
   ]
  },
  {
   "cell_type": "code",
   "execution_count": 8,
   "metadata": {
    "collapsed": true
   },
   "outputs": [],
   "source": [
    "ids = ()\n",
    "for i in qq:\n",
    "    if int(i[4]) not in ids:\n",
    "        ids += (int(i[4]),)"
   ]
  },
  {
   "cell_type": "code",
   "execution_count": 9,
   "metadata": {
    "collapsed": true
   },
   "outputs": [],
   "source": [
    "request =\"SELECT geo_objects.id,CONCAT_WS('','https://ma-metro.millionagents.com/data2/answer/image/', answer_files.id, '/', file) as url\\\n",
    " FROM ma_metro.reports r \\\n",
    "INNER JOIN ma_metro.reports r2 \\\n",
    "    ON r.id = r2.origin_report_id \\\n",
    "INNER JOIN ma_metro.tasks t \\\n",
    "ON r2.task_id = t.id \\\n",
    "JOIN ma_metro.answer_files \\\n",
    "    ON answer_files.id = r2.metro_price_photo_id \\\n",
    "INNER JOIN ma_metro.geo_objects \\\n",
    "    ON t.geo_object_id = geo_objects.id \\\n",
    "WHERE t.project_id = 2 \\\n",
    "AND r2.id IN {} \\\n",
    "LIMIT 360;\".format(ids)\n",
    "\n",
    "connection = pg.connect(host='127.0.0.1',port='8089', database='ma_metro_forapp_mobi',user='psqlreader',password='aImf3fivls34')\n",
    "df_final_auchan = pd.read_sql_query(request, connection)"
   ]
  },
  {
   "cell_type": "code",
   "execution_count": 10,
   "metadata": {},
   "outputs": [
    {
     "data": {
      "text/plain": [
       "'https://ma-metro.millionagents.com/data2/answer/image/34108441/df51415a-7d9c-471b-ae5f-ff02f08fa77f.jpg'"
      ]
     },
     "execution_count": 10,
     "metadata": {},
     "output_type": "execute_result"
    }
   ],
   "source": [
    "df_final_auchan.loc[4]['url']\n"
   ]
  },
  {
   "cell_type": "code",
   "execution_count": 11,
   "metadata": {
    "collapsed": true
   },
   "outputs": [],
   "source": [
    "# with open('auchan_from_metro.html','w') as f:\n",
    "#     for line in df_final_auchan['url']:\n",
    "#         line = line.replace('data2','data3')\n",
    "#         f.write(\"<img style=\\\"width:300px\\\" src=\\\"{}\\\"/>\\n\".format(line))"
   ]
  },
  {
   "cell_type": "code",
   "execution_count": 12,
   "metadata": {},
   "outputs": [
    {
     "name": "stdout",
     "output_type": "stream",
     "text": [
      "55\n"
     ]
    }
   ],
   "source": [
    "print(len(df_final_auchan))\n",
    "arr2 = list()"
   ]
  },
  {
   "cell_type": "code",
   "execution_count": 31,
   "metadata": {},
   "outputs": [
    {
     "name": "stdout",
     "output_type": "stream",
     "text": [
      "110\n"
     ]
    }
   ],
   "source": [
    "for i in range(len(df_final_auchan)):\n",
    "    hh2 = dict()\n",
    "    line = str(df_final_auchan.loc[i]['url'])\n",
    "#     line = line.replace('data2','data3')\n",
    "    hh2['store_title'] = 'Gigant'\n",
    "    hh2['source'] = line.replace('data2','data3')\n",
    "    arr2.append(hh2)\n",
    "\n",
    "\n",
    "\n",
    "print(len(arr2))\n",
    "\n",
    "with open('Gigant_reg.json', 'w') as f:\n",
    "    json.dump(arr2, f)"
   ]
  },
  {
   "cell_type": "code",
   "execution_count": null,
   "metadata": {
    "collapsed": true
   },
   "outputs": [],
   "source": []
  },
  {
   "cell_type": "code",
   "execution_count": null,
   "metadata": {
    "collapsed": true
   },
   "outputs": [],
   "source": []
  }
 ],
 "metadata": {
  "kernelspec": {
   "display_name": "Python 3",
   "language": "python",
   "name": "python3"
  },
  "language_info": {
   "codemirror_mode": {
    "name": "ipython",
    "version": 3
   },
   "file_extension": ".py",
   "mimetype": "text/x-python",
   "name": "python",
   "nbconvert_exporter": "python",
   "pygments_lexer": "ipython3",
   "version": "3.6.3"
  }
 },
 "nbformat": 4,
 "nbformat_minor": 2
}
