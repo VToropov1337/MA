{
 "cells": [
  {
   "cell_type": "code",
   "execution_count": 4,
   "metadata": {},
   "outputs": [],
   "source": [
    "import csv\n",
    "import xlrd\n",
    "\n",
    "workbook = xlrd.open_workbook('CatStrategy_final_v30_toShare_cl.xlsm')\n",
    "for sheet in workbook.sheets():\n",
    "    if sheet.name == \"Sheet_name_from_xlsm_file\":\n",
    "        with open('{}.csv'.format(sheet.name), 'wb') as f:\n",
    "            writer = csv.writer(f)\n",
    "            for row in range(sheet.nrows):\n",
    "                out = []\n",
    "                for cell in sheet.row_values(row):\n",
    "                    try:\n",
    "                        out.append(cell.encode('utf8'))\n",
    "                    except:\n",
    "                        out.append(cell)\n",
    "                writer.writerow(out)"
   ]
  },
  {
   "cell_type": "code",
   "execution_count": 5,
   "metadata": {},
   "outputs": [
    {
     "name": "stderr",
     "output_type": "stream",
     "text": [
      "/anaconda3/lib/python3.6/site-packages/openpyxl/reader/worksheet.py:310: UserWarning: Conditional Formatting extension is not supported and will be removed\n",
      "  warn(msg)\n",
      "/anaconda3/lib/python3.6/site-packages/openpyxl/reader/worksheet.py:310: UserWarning: Data Validation extension is not supported and will be removed\n",
      "  warn(msg)\n"
     ]
    }
   ],
   "source": [
    "from openpyxl import load_workbook\n",
    "wb2 = load_workbook('CatStrategy_final_v30_toShare_cl.xlsm')"
   ]
  },
  {
   "cell_type": "code",
   "execution_count": 6,
   "metadata": {},
   "outputs": [
    {
     "name": "stdout",
     "output_type": "stream",
     "text": [
      "['Титульн.', 'Аналитика->', '0. Мнение покупателей', '1. Здоровье категории', '2. Тренды рынка', '3. Выводы о категории ', '4. InOut', '5. Сквозной асс-т', '6. Клиент. потребности', '7. СТМ', '8. Цен. сегменты', '9. Бренды', '10. Вендоры', '11. Промо', '12. Планограммы', '13. Вывод', 'ИТОГ', 'Вспом. листы->', 'Для 1.', 'Для 6. (кластер 1)', 'Для 7. (кластер 1)', 'Для 4.', 'АМ Свод', 'Для 8. (кластер 1)', 'Из реаллокатора', 'InOut Fed Input', 'Для 5.', 'Для 11.', 'Для 13.', 'Для 0.', 'Для 9.', 'Для 10.', 'Списки', 'Исходные данные->', 'Total_TC5', 'Nielsen', 'АК', 'Промо ТС5', 'Промо ТС Карусель', 'Промо ТСX', 'Sales TC5', 'Sales TCX', 'Sales TCK', 'для промо (узнать)', 'Выводы для оптимизатора->']\n"
     ]
    }
   ],
   "source": [
    "print(wb2.sheetnames)"
   ]
  },
  {
   "cell_type": "code",
   "execution_count": 33,
   "metadata": {
    "collapsed": true
   },
   "outputs": [],
   "source": [
    "ws=wb2['0. Мнение покупателей']"
   ]
  },
  {
   "cell_type": "code",
   "execution_count": 43,
   "metadata": {},
   "outputs": [],
   "source": [
    "for row in ws.rows:\n",
    "    for cell in row:\n",
    "        if cell is 'image':\n",
    "            print('gg')"
   ]
  },
  {
   "cell_type": "code",
   "execution_count": 22,
   "metadata": {},
   "outputs": [
    {
     "name": "stdout",
     "output_type": "stream",
     "text": [
      "<Worksheet \"Титульн.\">\n",
      "<Worksheet \"Аналитика->\">\n",
      "<Worksheet \"0. Мнение покупателей\">\n",
      "<Worksheet \"1. Здоровье категории\">\n",
      "<Worksheet \"2. Тренды рынка\">\n",
      "<Worksheet \"3. Выводы о категории \">\n",
      "<Worksheet \"4. InOut\">\n",
      "<Worksheet \"5. Сквозной асс-т\">\n",
      "<Worksheet \"6. Клиент. потребности\">\n",
      "<Worksheet \"7. СТМ\">\n",
      "<Worksheet \"8. Цен. сегменты\">\n",
      "<Worksheet \"9. Бренды\">\n",
      "<Worksheet \"10. Вендоры\">\n",
      "<Worksheet \"11. Промо\">\n",
      "<Worksheet \"12. Планограммы\">\n",
      "<Worksheet \"13. Вывод\">\n",
      "<Worksheet \"ИТОГ\">\n",
      "<Worksheet \"Вспом. листы->\">\n",
      "<Worksheet \"Для 1.\">\n",
      "<Worksheet \"Для 6. (кластер 1)\">\n",
      "<Worksheet \"Для 7. (кластер 1)\">\n",
      "<Worksheet \"Для 4.\">\n",
      "<Worksheet \"АМ Свод\">\n",
      "<Worksheet \"Для 8. (кластер 1)\">\n",
      "<Worksheet \"Из реаллокатора\">\n",
      "<Worksheet \"InOut Fed Input\">\n",
      "<Worksheet \"Для 5.\">\n",
      "<Worksheet \"Для 11.\">\n",
      "<Worksheet \"Для 13.\">\n",
      "<Worksheet \"Для 0.\">\n",
      "<Worksheet \"Для 9.\">\n",
      "<Worksheet \"Для 10.\">\n",
      "<Worksheet \"Списки\">\n",
      "<Worksheet \"Исходные данные->\">\n",
      "<Worksheet \"Total_TC5\">\n",
      "<Worksheet \"Nielsen\">\n",
      "<Worksheet \"АК\">\n",
      "<Worksheet \"Промо ТС5\">\n",
      "<Worksheet \"Промо ТС Карусель\">\n",
      "<Worksheet \"Промо ТСX\">\n",
      "<Worksheet \"Sales TC5\">\n",
      "<Worksheet \"Sales TCX\">\n",
      "<Worksheet \"Sales TCK\">\n",
      "<Worksheet \"для промо (узнать)\">\n",
      "<Worksheet \"Выводы для оптимизатора->\">\n"
     ]
    }
   ],
   "source": [
    "wb = load_workbook(filename='large_file.xlsx', read_only=True)\n",
    "ws = wb['big_data']\n",
    "\n",
    "for row in ws.rows:\n",
    "    for cell in row:\n",
    "        print(cell.value)"
   ]
  },
  {
   "cell_type": "code",
   "execution_count": 35,
   "metadata": {},
   "outputs": [
    {
     "ename": "ModuleNotFoundError",
     "evalue": "No module named 'win32com'",
     "output_type": "error",
     "traceback": [
      "\u001b[0;31m---------------------------------------------------------------------------\u001b[0m",
      "\u001b[0;31mModuleNotFoundError\u001b[0m                       Traceback (most recent call last)",
      "\u001b[0;32m<ipython-input-35-e2dada6d96c5>\u001b[0m in \u001b[0;36m<module>\u001b[0;34m()\u001b[0m\n\u001b[0;32m----> 1\u001b[0;31m \u001b[0;32mimport\u001b[0m \u001b[0mwin32com\u001b[0m\u001b[0;34m.\u001b[0m\u001b[0mclient\u001b[0m \u001b[0;32mas\u001b[0m \u001b[0mwin32\u001b[0m\u001b[0;34m\u001b[0m\u001b[0m\n\u001b[0m\u001b[1;32m      2\u001b[0m \u001b[0;32mfrom\u001b[0m \u001b[0mPIL\u001b[0m \u001b[0;32mimport\u001b[0m \u001b[0mImageGrab\u001b[0m\u001b[0;34m\u001b[0m\u001b[0m\n\u001b[1;32m      3\u001b[0m \u001b[0;32mfrom\u001b[0m \u001b[0mxlrd\u001b[0m \u001b[0;32mimport\u001b[0m \u001b[0mopen_workbook\u001b[0m\u001b[0;34m\u001b[0m\u001b[0m\n\u001b[1;32m      4\u001b[0m \u001b[0;32mimport\u001b[0m \u001b[0mos\u001b[0m\u001b[0;34m\u001b[0m\u001b[0m\n\u001b[1;32m      5\u001b[0m \u001b[0;34m\u001b[0m\u001b[0m\n",
      "\u001b[0;31mModuleNotFoundError\u001b[0m: No module named 'win32com'"
     ]
    }
   ],
   "source": [
    "import win32com.client as win32\n",
    "from PIL import ImageGrab\n",
    "from xlrd import open_workbook\n",
    "import os\n",
    "\n",
    "excel = win32.gencache.EnsureDispatch(\"Excel.Application\")\n",
    "wb = open_workbook('CatStrategy_final_v30_toShare_cl.xlsm')\n",
    "r = wb.sheet_by_name('1. Здоровье категории')\n",
    "for chart in r.Chartobjects():\n",
    "#     implement your custom logic here\n",
    "    chart.CopyPicture()\n",
    "im = ImageGrab.grabclipboard()\n",
    "im.save('somefile.png','PNG')"
   ]
  },
  {
   "cell_type": "code",
   "execution_count": null,
   "metadata": {
    "collapsed": true
   },
   "outputs": [],
   "source": []
  }
 ],
 "metadata": {
  "kernelspec": {
   "display_name": "Python 3",
   "language": "python",
   "name": "python3"
  },
  "language_info": {
   "codemirror_mode": {
    "name": "ipython",
    "version": 3
   },
   "file_extension": ".py",
   "mimetype": "text/x-python",
   "name": "python",
   "nbconvert_exporter": "python",
   "pygments_lexer": "ipython3",
   "version": "3.6.3"
  }
 },
 "nbformat": 4,
 "nbformat_minor": 2
}
