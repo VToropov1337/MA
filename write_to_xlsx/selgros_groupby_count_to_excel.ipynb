{
 "cells": [
  {
   "cell_type": "code",
   "execution_count": 50,
   "metadata": {
    "collapsed": true
   },
   "outputs": [],
   "source": [
    "import pandas as pd\n",
    "import numpy as np\n"
   ]
  },
  {
   "cell_type": "code",
   "execution_count": 51,
   "metadata": {
    "collapsed": true
   },
   "outputs": [],
   "source": [
    "df = pd.read_csv('SELGROS.csv',sep=';')"
   ]
  },
  {
   "cell_type": "code",
   "execution_count": 52,
   "metadata": {},
   "outputs": [
    {
     "data": {
      "text/html": [
       "<div>\n",
       "<style scoped>\n",
       "    .dataframe tbody tr th:only-of-type {\n",
       "        vertical-align: middle;\n",
       "    }\n",
       "\n",
       "    .dataframe tbody tr th {\n",
       "        vertical-align: top;\n",
       "    }\n",
       "\n",
       "    .dataframe thead th {\n",
       "        text-align: right;\n",
       "    }\n",
       "</style>\n",
       "<table border=\"1\" class=\"dataframe\">\n",
       "  <thead>\n",
       "    <tr style=\"text-align: right;\">\n",
       "      <th></th>\n",
       "      <th>wave</th>\n",
       "      <th>title</th>\n",
       "      <th>geo_object_id</th>\n",
       "      <th>id</th>\n",
       "      <th>article_id</th>\n",
       "      <th>metro_available</th>\n",
       "      <th>state</th>\n",
       "      <th>metro_title</th>\n",
       "    </tr>\n",
       "  </thead>\n",
       "  <tbody>\n",
       "    <tr>\n",
       "      <th>0</th>\n",
       "      <td>S6-18-42</td>\n",
       "      <td>КАРУСЕЛЬ</td>\n",
       "      <td>878</td>\n",
       "      <td>18201105</td>\n",
       "      <td>199047</td>\n",
       "      <td>f</td>\n",
       "      <td>accepted</td>\n",
       "      <td>АУРА ВЛАЖ САЛФ ДЕТ 120ШТ</td>\n",
       "    </tr>\n",
       "    <tr>\n",
       "      <th>1</th>\n",
       "      <td>S6-18-42</td>\n",
       "      <td>КАРУСЕЛЬ</td>\n",
       "      <td>878</td>\n",
       "      <td>18201109</td>\n",
       "      <td>199063</td>\n",
       "      <td>t</td>\n",
       "      <td>accepted</td>\n",
       "      <td>ДИСК.ЕЖ/ПРОК.ЛИЛ.60ШТ</td>\n",
       "    </tr>\n",
       "    <tr>\n",
       "      <th>2</th>\n",
       "      <td>S6-18-42</td>\n",
       "      <td>КАРУСЕЛЬ</td>\n",
       "      <td>878</td>\n",
       "      <td>18201106</td>\n",
       "      <td>199066</td>\n",
       "      <td>f</td>\n",
       "      <td>accepted</td>\n",
       "      <td>ЗЕВА САЛФ.Д/ЛИЦА 1УП</td>\n",
       "    </tr>\n",
       "    <tr>\n",
       "      <th>3</th>\n",
       "      <td>S6-18-42</td>\n",
       "      <td>КАРУСЕЛЬ</td>\n",
       "      <td>878</td>\n",
       "      <td>18201108</td>\n",
       "      <td>232476</td>\n",
       "      <td>t</td>\n",
       "      <td>accepted</td>\n",
       "      <td>НАТУР ПРОК.УЛЬТРНОРМ 10ШТ</td>\n",
       "    </tr>\n",
       "    <tr>\n",
       "      <th>4</th>\n",
       "      <td>S6-18-42</td>\n",
       "      <td>КАРУСЕЛЬ</td>\n",
       "      <td>878</td>\n",
       "      <td>18201107</td>\n",
       "      <td>199044</td>\n",
       "      <td>f</td>\n",
       "      <td>accepted</td>\n",
       "      <td>ЗЕВА ПЛОТ.НС.2СЛ.РМ10Х10ШТ</td>\n",
       "    </tr>\n",
       "  </tbody>\n",
       "</table>\n",
       "</div>"
      ],
      "text/plain": [
       "       wave     title  geo_object_id        id  article_id metro_available  \\\n",
       "0  S6-18-42  КАРУСЕЛЬ            878  18201105      199047               f   \n",
       "1  S6-18-42  КАРУСЕЛЬ            878  18201109      199063               t   \n",
       "2  S6-18-42  КАРУСЕЛЬ            878  18201106      199066               f   \n",
       "3  S6-18-42  КАРУСЕЛЬ            878  18201108      232476               t   \n",
       "4  S6-18-42  КАРУСЕЛЬ            878  18201107      199044               f   \n",
       "\n",
       "      state                 metro_title  \n",
       "0  accepted    АУРА ВЛАЖ САЛФ ДЕТ 120ШТ  \n",
       "1  accepted       ДИСК.ЕЖ/ПРОК.ЛИЛ.60ШТ  \n",
       "2  accepted        ЗЕВА САЛФ.Д/ЛИЦА 1УП  \n",
       "3  accepted   НАТУР ПРОК.УЛЬТРНОРМ 10ШТ  \n",
       "4  accepted  ЗЕВА ПЛОТ.НС.2СЛ.РМ10Х10ШТ  "
      ]
     },
     "execution_count": 52,
     "metadata": {},
     "output_type": "execute_result"
    }
   ],
   "source": [
    "df.head()"
   ]
  },
  {
   "cell_type": "code",
   "execution_count": 53,
   "metadata": {
    "collapsed": true
   },
   "outputs": [],
   "source": [
    "r = df.groupby(['metro_title','metro_available','wave'])['metro_available'].count()"
   ]
  },
  {
   "cell_type": "code",
   "execution_count": 49,
   "metadata": {
    "collapsed": true
   },
   "outputs": [],
   "source": [
    "r.to_excel('sel.xlsx')"
   ]
  },
  {
   "cell_type": "code",
   "execution_count": null,
   "metadata": {
    "collapsed": true
   },
   "outputs": [],
   "source": []
  },
  {
   "cell_type": "code",
   "execution_count": null,
   "metadata": {
    "collapsed": true
   },
   "outputs": [],
   "source": []
  },
  {
   "cell_type": "code",
   "execution_count": null,
   "metadata": {
    "collapsed": true
   },
   "outputs": [],
   "source": []
  },
  {
   "cell_type": "code",
   "execution_count": null,
   "metadata": {
    "collapsed": true
   },
   "outputs": [],
   "source": []
  },
  {
   "cell_type": "code",
   "execution_count": null,
   "metadata": {
    "collapsed": true
   },
   "outputs": [],
   "source": []
  },
  {
   "cell_type": "code",
   "execution_count": null,
   "metadata": {
    "collapsed": true
   },
   "outputs": [],
   "source": []
  },
  {
   "cell_type": "code",
   "execution_count": null,
   "metadata": {
    "collapsed": true
   },
   "outputs": [],
   "source": []
  },
  {
   "cell_type": "code",
   "execution_count": null,
   "metadata": {
    "collapsed": true
   },
   "outputs": [],
   "source": []
  },
  {
   "cell_type": "code",
   "execution_count": null,
   "metadata": {
    "collapsed": true
   },
   "outputs": [],
   "source": []
  },
  {
   "cell_type": "code",
   "execution_count": null,
   "metadata": {
    "collapsed": true
   },
   "outputs": [],
   "source": []
  },
  {
   "cell_type": "code",
   "execution_count": null,
   "metadata": {
    "collapsed": true
   },
   "outputs": [],
   "source": []
  }
 ],
 "metadata": {
  "kernelspec": {
   "display_name": "Python 3",
   "language": "python",
   "name": "python3"
  },
  "language_info": {
   "codemirror_mode": {
    "name": "ipython",
    "version": 3
   },
   "file_extension": ".py",
   "mimetype": "text/x-python",
   "name": "python",
   "nbconvert_exporter": "python",
   "pygments_lexer": "ipython3",
   "version": "3.6.3"
  }
 },
 "nbformat": 4,
 "nbformat_minor": 2
}
